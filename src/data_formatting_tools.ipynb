{
 "cells": [
  {
   "cell_type": "markdown",
   "id": "44a0605f-b47c-4943-af53-9813c5c60185",
   "metadata": {},
   "source": [
    "# These steps are to run before running KITTI RAW data on the yolo-slam "
   ]
  },
  {
   "cell_type": "markdown",
   "id": "4dd5b8c0-61e8-4b2c-a622-b6df881e3c84",
   "metadata": {},
   "source": [
    "##  1. Calculating the calibration matrix"
   ]
  },
  {
   "cell_type": "markdown",
   "id": "31420c40-588e-4135-b464-adc65fe782a6",
   "metadata": {},
   "source": [
    "the calibration matrix is used for filling in the camera intrisic parameters\n",
    "in settings files (.yaml) under ORB_SLAM repository"
   ]
  },
  {
   "cell_type": "code",
   "execution_count": 2,
   "id": "da2f121c-7b90-4949-b234-b6382baefa6c",
   "metadata": {},
   "outputs": [],
   "source": [
    "import pandas as pd\n",
    "import numpy as np"
   ]
  },
  {
   "cell_type": "code",
   "execution_count": 47,
   "id": "257d8269-02d7-49d5-ae1f-aa196bd788dc",
   "metadata": {},
   "outputs": [
    {
     "data": {
      "text/html": [
       "<div>\n",
       "<style scoped>\n",
       "    .dataframe tbody tr th:only-of-type {\n",
       "        vertical-align: middle;\n",
       "    }\n",
       "\n",
       "    .dataframe tbody tr th {\n",
       "        vertical-align: top;\n",
       "    }\n",
       "\n",
       "    .dataframe thead th {\n",
       "        text-align: right;\n",
       "    }\n",
       "</style>\n",
       "<table border=\"1\" class=\"dataframe\">\n",
       "  <thead>\n",
       "    <tr style=\"text-align: right;\">\n",
       "      <th></th>\n",
       "      <th>1</th>\n",
       "      <th>2</th>\n",
       "      <th>3</th>\n",
       "      <th>4</th>\n",
       "      <th>5</th>\n",
       "      <th>6</th>\n",
       "      <th>7</th>\n",
       "      <th>8</th>\n",
       "      <th>9</th>\n",
       "      <th>10</th>\n",
       "      <th>11</th>\n",
       "      <th>12</th>\n",
       "    </tr>\n",
       "    <tr>\n",
       "      <th>0</th>\n",
       "      <th></th>\n",
       "      <th></th>\n",
       "      <th></th>\n",
       "      <th></th>\n",
       "      <th></th>\n",
       "      <th></th>\n",
       "      <th></th>\n",
       "      <th></th>\n",
       "      <th></th>\n",
       "      <th></th>\n",
       "      <th></th>\n",
       "      <th></th>\n",
       "    </tr>\n",
       "  </thead>\n",
       "  <tbody>\n",
       "    <tr>\n",
       "      <th>P0:</th>\n",
       "      <td>707.049300</td>\n",
       "      <td>0.000000</td>\n",
       "      <td>604.081400</td>\n",
       "      <td>0.000000</td>\n",
       "      <td>0.000000</td>\n",
       "      <td>707.049300</td>\n",
       "      <td>180.506600</td>\n",
       "      <td>0.000000</td>\n",
       "      <td>0.000000</td>\n",
       "      <td>0.000000</td>\n",
       "      <td>1.000000</td>\n",
       "      <td>0.000000</td>\n",
       "    </tr>\n",
       "    <tr>\n",
       "      <th>P1:</th>\n",
       "      <td>707.049300</td>\n",
       "      <td>0.000000</td>\n",
       "      <td>604.081400</td>\n",
       "      <td>-379.784200</td>\n",
       "      <td>0.000000</td>\n",
       "      <td>707.049300</td>\n",
       "      <td>180.506600</td>\n",
       "      <td>0.000000</td>\n",
       "      <td>0.000000</td>\n",
       "      <td>0.000000</td>\n",
       "      <td>1.000000</td>\n",
       "      <td>0.000000</td>\n",
       "    </tr>\n",
       "    <tr>\n",
       "      <th>P2:</th>\n",
       "      <td>707.049300</td>\n",
       "      <td>0.000000</td>\n",
       "      <td>604.081400</td>\n",
       "      <td>45.758310</td>\n",
       "      <td>0.000000</td>\n",
       "      <td>707.049300</td>\n",
       "      <td>180.506600</td>\n",
       "      <td>-0.345416</td>\n",
       "      <td>0.000000</td>\n",
       "      <td>0.000000</td>\n",
       "      <td>1.000000</td>\n",
       "      <td>0.004981</td>\n",
       "    </tr>\n",
       "    <tr>\n",
       "      <th>P3:</th>\n",
       "      <td>707.049300</td>\n",
       "      <td>0.000000</td>\n",
       "      <td>604.081400</td>\n",
       "      <td>-334.108100</td>\n",
       "      <td>0.000000</td>\n",
       "      <td>707.049300</td>\n",
       "      <td>180.506600</td>\n",
       "      <td>2.330660</td>\n",
       "      <td>0.000000</td>\n",
       "      <td>0.000000</td>\n",
       "      <td>1.000000</td>\n",
       "      <td>0.003201</td>\n",
       "    </tr>\n",
       "    <tr>\n",
       "      <th>R_rect</th>\n",
       "      <td>0.999913</td>\n",
       "      <td>0.010093</td>\n",
       "      <td>-0.008512</td>\n",
       "      <td>-0.010127</td>\n",
       "      <td>0.999941</td>\n",
       "      <td>-0.004038</td>\n",
       "      <td>0.008471</td>\n",
       "      <td>0.004124</td>\n",
       "      <td>0.999956</td>\n",
       "      <td>NaN</td>\n",
       "      <td>NaN</td>\n",
       "      <td>NaN</td>\n",
       "    </tr>\n",
       "    <tr>\n",
       "      <th>Tr_velo_cam</th>\n",
       "      <td>0.006928</td>\n",
       "      <td>-0.999972</td>\n",
       "      <td>-0.002758</td>\n",
       "      <td>-0.024577</td>\n",
       "      <td>-0.001163</td>\n",
       "      <td>0.002750</td>\n",
       "      <td>-0.999996</td>\n",
       "      <td>-0.061272</td>\n",
       "      <td>0.999975</td>\n",
       "      <td>0.006931</td>\n",
       "      <td>-0.001144</td>\n",
       "      <td>-0.332103</td>\n",
       "    </tr>\n",
       "    <tr>\n",
       "      <th>Tr_imu_velo</th>\n",
       "      <td>0.999998</td>\n",
       "      <td>0.000755</td>\n",
       "      <td>-0.002036</td>\n",
       "      <td>-0.808676</td>\n",
       "      <td>-0.000785</td>\n",
       "      <td>0.999890</td>\n",
       "      <td>-0.014823</td>\n",
       "      <td>0.319556</td>\n",
       "      <td>0.002024</td>\n",
       "      <td>0.014825</td>\n",
       "      <td>0.999888</td>\n",
       "      <td>-0.799723</td>\n",
       "    </tr>\n",
       "  </tbody>\n",
       "</table>\n",
       "</div>"
      ],
      "text/plain": [
       "                     1         2           3           4         5   \\\n",
       "0                                                                     \n",
       "P0:          707.049300  0.000000  604.081400    0.000000  0.000000   \n",
       "P1:          707.049300  0.000000  604.081400 -379.784200  0.000000   \n",
       "P2:          707.049300  0.000000  604.081400   45.758310  0.000000   \n",
       "P3:          707.049300  0.000000  604.081400 -334.108100  0.000000   \n",
       "R_rect         0.999913  0.010093   -0.008512   -0.010127  0.999941   \n",
       "Tr_velo_cam    0.006928 -0.999972   -0.002758   -0.024577 -0.001163   \n",
       "Tr_imu_velo    0.999998  0.000755   -0.002036   -0.808676 -0.000785   \n",
       "\n",
       "                     6           7         8         9         10        11  \\\n",
       "0                                                                             \n",
       "P0:          707.049300  180.506600  0.000000  0.000000  0.000000  1.000000   \n",
       "P1:          707.049300  180.506600  0.000000  0.000000  0.000000  1.000000   \n",
       "P2:          707.049300  180.506600 -0.345416  0.000000  0.000000  1.000000   \n",
       "P3:          707.049300  180.506600  2.330660  0.000000  0.000000  1.000000   \n",
       "R_rect        -0.004038    0.008471  0.004124  0.999956       NaN       NaN   \n",
       "Tr_velo_cam    0.002750   -0.999996 -0.061272  0.999975  0.006931 -0.001144   \n",
       "Tr_imu_velo    0.999890   -0.014823  0.319556  0.002024  0.014825  0.999888   \n",
       "\n",
       "                   12  \n",
       "0                      \n",
       "P0:          0.000000  \n",
       "P1:          0.000000  \n",
       "P2:          0.004981  \n",
       "P3:          0.003201  \n",
       "R_rect            NaN  \n",
       "Tr_velo_cam -0.332103  \n",
       "Tr_imu_velo -0.799723  "
      ]
     },
     "execution_count": 47,
     "metadata": {},
     "output_type": "execute_result"
    }
   ],
   "source": [
    "path = '/home/brwei01/Data/data_tracking/calibration/0014.txt'\n",
    "calibration = pd.read_csv(path, delimiter=' ', header=None, index_col=0)\n",
    "columns_to_drop = [13, 14]\n",
    "calibration = calibration.drop(columns=columns_to_drop)\n",
    "calibration"
   ]
  },
  {
   "cell_type": "markdown",
   "id": "1e0de84f-688b-47f6-bf16-7ba53def92d6",
   "metadata": {},
   "source": [
    "P0,P1,P2,P3 are the camera projection matrices where P0,P1 are for the two grayscale cameras and the remaining two for RGB cameras. Tr is a translation vector that transforms points from velodyne sensor coordinates to respective rectified camera coordinate systems.\n",
    "\n"
   ]
  },
  {
   "cell_type": "code",
   "execution_count": 48,
   "id": "b6487a45-9e85-4d77-80c7-92762667b184",
   "metadata": {},
   "outputs": [
    {
     "data": {
      "text/plain": [
       "array([[707.0493,   0.    , 604.0814,   0.    ],\n",
       "       [  0.    , 707.0493, 180.5066,   0.    ],\n",
       "       [  0.    ,   0.    ,   1.    ,   0.    ]])"
      ]
     },
     "execution_count": 48,
     "metadata": {},
     "output_type": "execute_result"
    }
   ],
   "source": [
    "P0 = np.array(calibration.iloc[0]).reshape((3,4))\n",
    "P0"
   ]
  },
  {
   "cell_type": "code",
   "execution_count": 49,
   "id": "400f7c88-2466-446d-a635-3f1dd7dfe277",
   "metadata": {},
   "outputs": [
    {
     "data": {
      "text/plain": [
       "array([[ 707.0493,    0.    ,  604.0814, -379.7842],\n",
       "       [   0.    ,  707.0493,  180.5066,    0.    ],\n",
       "       [   0.    ,    0.    ,    1.    ,    0.    ]])"
      ]
     },
     "execution_count": 49,
     "metadata": {},
     "output_type": "execute_result"
    }
   ],
   "source": [
    "P1 = np.array(calibration.iloc[1]).reshape((3,4))\n",
    "P1"
   ]
  },
  {
   "cell_type": "code",
   "execution_count": 38,
   "id": "05c1a471-5f63-4b81-b9eb-c0005d9e7793",
   "metadata": {},
   "outputs": [
    {
     "data": {
      "text/plain": [
       "array([[718.3351,   0.    , 600.3891,  44.5038],\n",
       "       [  0.    , 718.3351, 181.5122,  -0.5951],\n",
       "       [  0.    ,   0.    ,   1.    ,   0.0026]])"
      ]
     },
     "execution_count": 38,
     "metadata": {},
     "output_type": "execute_result"
    }
   ],
   "source": [
    "P2 = np.array(calibration.iloc[2]).reshape((3,4))\n",
    "# Set the precision to 4 decimal places\n",
    "np.set_printoptions(precision=4, suppress=True)\n",
    "P2"
   ]
  },
  {
   "cell_type": "code",
   "execution_count": 39,
   "id": "eb0de434-4a4d-4126-8589-9d52ba19e777",
   "metadata": {},
   "outputs": [
    {
     "data": {
      "text/plain": [
       "array([[ 718.3351,    0.    ,  600.3891, -336.3147],\n",
       "       [   0.    ,  718.3351,  181.5122,    3.1599],\n",
       "       [   0.    ,    0.    ,    1.    ,    0.0053]])"
      ]
     },
     "execution_count": 39,
     "metadata": {},
     "output_type": "execute_result"
    }
   ],
   "source": [
    "P3 = np.array(calibration.iloc[3]).reshape((3,4))\n",
    "P3"
   ]
  },
  {
   "cell_type": "markdown",
   "id": "fe4d9ca3-9c12-4980-ad32-38e6c9383baa",
   "metadata": {},
   "source": [
    "## 2.Converting timestamps of raw data to double data type"
   ]
  },
  {
   "cell_type": "markdown",
   "id": "6947bc56-7e5b-437e-bcd2-bab9684cda74",
   "metadata": {},
   "source": [
    "in kitti raw data, the time stamps are:\n",
    "2011-09-26 13:04:32.345808896\n",
    "2011-09-26 13:04:32.449188864\n",
    "2011-09-26 13:04:32.552435968\n",
    "\n",
    "in VO data, the time stamps are:\n",
    "0.000000e+00\n",
    "1.033914e-01\n",
    "2.071056e-01\n",
    "3.102615e-01"
   ]
  },
  {
   "cell_type": "code",
   "execution_count": 10,
   "id": "2dd6e374-07e7-4bbd-85c1-aaf375ad81a2",
   "metadata": {},
   "outputs": [],
   "source": [
    "from datetime import datetime\n",
    "import numpy as np"
   ]
  },
  {
   "cell_type": "code",
   "execution_count": 48,
   "id": "d147517a-224f-486e-80e5-9c802d5844f6",
   "metadata": {},
   "outputs": [],
   "source": [
    "input_path = '/home/brwei01/Data/data_tracking/sequences/0000/timestamps.txt' \n",
    "output_path = '/home/brwei01/Data/data_tracking/sequences/0000/times.txt' "
   ]
  },
  {
   "cell_type": "code",
   "execution_count": 49,
   "id": "c0dd83da-43b8-4771-a606-ed81db8eda41",
   "metadata": {},
   "outputs": [],
   "source": [
    "timestamp_strs = []\n",
    "with open(input_path) as f:\n",
    "    for line in f:\n",
    "        timestamp_strs.append(line)\n",
    "\n",
    "# Convert timestamp strings to datetime objects\n",
    "#  ts[:26] to truncate the timestamp strings to the first 26 characters, which correspond to the format \"YYYY-MM-DD HH:MM:SS.\"\n",
    "timestamps = [datetime.strptime(ts[:26], \"%Y-%m-%d %H:%M:%S.%f\") for ts in timestamp_strs]\n",
    "# Calculate time differences relative to the start time\n",
    "time_deltas = [(ts - timestamps[0]).total_seconds() for ts in timestamps]\n",
    "# Convert time differences to scientific notation\n",
    "time_series = [format(td, \".6e\") for td in time_deltas]\n",
    "\n",
    "# Print the resulting time series\n",
    "with open(output_path, 'w') as f:\n",
    "    for value in time_series:\n",
    "        f.write(value + '\\n')"
   ]
  },
  {
   "cell_type": "markdown",
   "id": "98bff9ac-91c0-4c64-971c-bc1bfa7a5fe7",
   "metadata": {},
   "source": [
    "## 2.1 generate timestamps data if not available for the sequence"
   ]
  },
  {
   "cell_type": "code",
   "execution_count": 1,
   "id": "6359c6b7-f96d-4b44-8f19-7d2f5a17c873",
   "metadata": {},
   "outputs": [],
   "source": [
    "import os\n",
    "import datetime"
   ]
  },
  {
   "cell_type": "code",
   "execution_count": 7,
   "id": "ec66fae7-e8c0-4a5b-88e2-87301a6acf74",
   "metadata": {},
   "outputs": [],
   "source": [
    "# change to directions of sequences\n",
    "# folder_path = '/home/brwei01/Data/data_tracking/sequences/0005/image_0'\n",
    "# output_file_path = '/home/brwei01/Data/data_tracking/sequences/0005/times.txt'\n",
    "folder_path = '/media/brwei01/Extreme_SSD/data_tracking/sequences/0007/image_0'\n",
    "output_file_path = '/media/brwei01/Extreme_SSD/data_tracking/sequences/0007/times.txt'"
   ]
  },
  {
   "cell_type": "code",
   "execution_count": 8,
   "id": "0589eae8-68f3-4e3c-9f3e-b4c7ca82fc17",
   "metadata": {},
   "outputs": [],
   "source": [
    "import os\n",
    "import numpy as np\n",
    "\n",
    "def generate_timestamps(folder_path, output_file_path):\n",
    "    # Get the list of files in the folder\n",
    "    file_list = [f for f in os.listdir(folder_path) if os.path.isfile(os.path.join(folder_path, f))]\n",
    "    \n",
    "    # Calculate the number of timestamps\n",
    "    num_timestamps = len(file_list)\n",
    "    \n",
    "    # Calculate the time interval (10 timestamps per second)\n",
    "    time_interval = 1.0 / 10.0\n",
    "    \n",
    "    # Generate timestamps and write them to the output file\n",
    "    timestamps = [i * time_interval for i in range(num_timestamps)]\n",
    "    \n",
    "    with open(output_file_path, 'w') as output_file:\n",
    "        for timestamp in timestamps:\n",
    "            # Write each timestamp in scientific notation\n",
    "            output_file.write(f\"{timestamp:.6e}\\n\")\n",
    "\n",
    "timestamps = generate_timestamps(folder_path, output_file_path)\n"
   ]
  },
  {
   "cell_type": "markdown",
   "id": "abcbbaea-9203-4da0-b113-c11faaf05dc1",
   "metadata": {},
   "source": [
    "## 3. Create Ground Truth poses for KITTI Raw IMU"
   ]
  },
  {
   "cell_type": "markdown",
   "id": "46fe9473-bbc1-4679-9b15-afaec9e39c1b",
   "metadata": {},
   "source": [
    "Run this script: to calculate scale factor and make evaluations using evo package"
   ]
  },
  {
   "cell_type": "code",
   "execution_count": 93,
   "id": "5c0473ba-55a6-4834-9bcc-737a9cd05260",
   "metadata": {},
   "outputs": [],
   "source": [
    "import pandas as pd\n",
    "import matplotlib.pyplot as plt\n",
    "from mpl_toolkits.mplot3d import Axes3D\n",
    "import numpy as np\n",
    "import sys \n",
    "import os\n",
    "sys.path.append('../src/')\n",
    "\n",
    "from data_utils import *"
   ]
  },
  {
   "cell_type": "code",
   "execution_count": 94,
   "id": "b76aadd7-89c9-4f92-a1ee-67fe13afec81",
   "metadata": {},
   "outputs": [],
   "source": [
    "# Replace this with the actual path of your folder:\n",
    "DATA_FOLDER_PATH = '/home/brwei01/Data/data_tracking/oxts/0005' \n",
    "OXTS_FILE_PATH = '/home/brwei01/Data/data_tracking/oxts/0005.txt'\n",
    "\n",
    "# Replace this with the actual times.txt path after processing in previous step 3\n",
    "TIMES_FILE_PATH = '/home/brwei01/Data/data_tracking/sequences/0005/times.txt' \n",
    "\n",
    "# The columns names are referenced from: https://github.com/bostondiditeam/kitti/blob/master/resources/devkit_object/readme.txt\n",
    "IMU_COLUMN_NAMES = ['lat','lon','alt','roll','pitch', 'yaw','vn','ve','vf','vl','vu','ax','ay','az','af',\n",
    "                    'al','au','wx','wy','wz','wf','wl','wu','posacc','velacc','navstat','numsats','posmode','velmode','orimode']"
   ]
  },
  {
   "cell_type": "code",
   "execution_count": 95,
   "id": "0e1242b3-d5a3-4125-822d-b2683ae5787f",
   "metadata": {},
   "outputs": [],
   "source": [
    "def euler_to_quaternion(yaw, pitch, roll):\n",
    "    cy = np.cos(yaw * 0.5)\n",
    "    sy = np.sin(yaw * 0.5)\n",
    "    cp = np.cos(pitch * 0.5)\n",
    "    sp = np.sin(pitch * 0.5)\n",
    "    cr = np.cos(roll * 0.5)\n",
    "    sr = np.sin(roll * 0.5)\n",
    "\n",
    "    q1 = cy * cp * cr + sy * sp * sr\n",
    "    q2 = cy * cp * sr - sy * sp * cr\n",
    "    q3 = sy * cp * sr + cy * sp * cr\n",
    "    q4 = sy * cp * cr - cy * sp * sr\n",
    "\n",
    "    return q1, q2, q3, q4\n",
    "\n",
    "def read_times(times_file_path):\n",
    "    times = []\n",
    "    with open(times_file_path) as f:\n",
    "        for time in f:\n",
    "            times.append(time)\n",
    "    return times"
   ]
  },
  {
   "cell_type": "code",
   "execution_count": 96,
   "id": "8271b1d4-1a24-4937-9b8d-72e8faea480e",
   "metadata": {},
   "outputs": [],
   "source": [
    "prev_imu_data = None\n",
    "poses = []\n",
    "fps = 10\n",
    "\n",
    "# Read the data from the single file\n",
    "with open(OXTS_FILE_PATH, 'r') as f:\n",
    "    lines = f.readlines()\n",
    "\n",
    "for frame, line in enumerate(lines):\n",
    "    imu_data = list(map(float, line.split()))\n",
    "    imu_data = pd.DataFrame([imu_data], columns=IMU_COLUMN_NAMES)\n",
    "    times = read_times(TIMES_FILE_PATH)\n",
    "    \n",
    "    if prev_imu_data is not None:\n",
    "        displacement = 0.1 * np.linalg.norm(imu_data[['vf', 'vl', 'vu']])\n",
    "        yaw_change = imu_data.yaw - prev_imu_data.yaw\n",
    "        pitch_change = imu_data.pitch - prev_imu_data.pitch\n",
    "        roll_change = imu_data.roll - prev_imu_data.roll\n",
    "\n",
    "        for i in range(len(poses)):\n",
    "            time, x0, y0, z0, q1, q2, q3, q4 = poses[i]\n",
    "            \n",
    "            # Calculate new x, y, and z coordinates based on yaw_change, pitch_change, and vf, vl, vu\n",
    "            x1 = x0 * np.cos(yaw_change) + y0 * np.sin(yaw_change) - displacement * np.cos(pitch_change)\n",
    "            y1 = -x0 * np.sin(yaw_change) + y0 * np.cos(yaw_change) - displacement * np.sin(pitch_change)\n",
    "            z1 = z0 - imu_data.vu * 0.1 * fps  # Consider vertical velocity and time interval\n",
    "            \n",
    "            q1_new, q2_new, q3_new, q4_new = euler_to_quaternion(yaw_change, pitch_change, roll_change)\n",
    "\n",
    "            time_curr = pd.Series(times[i].strip())\n",
    "\n",
    "            poses[i] = np.array([time_curr, x1, y1, z1, q1 * q1_new, q2 * q2_new, q3 * q3_new, q4 * q4_new])\n",
    "    \n",
    "    poses.append(np.array([0, 0, 0, 0, 0, 1, 0, 0]))\n",
    "    prev_imu_data = imu_data\n"
   ]
  },
  {
   "cell_type": "code",
   "execution_count": 97,
   "id": "9c2d6f9b-e018-4227-bacb-732565d2ab7e",
   "metadata": {},
   "outputs": [
    {
     "data": {
      "text/plain": [
       "[array([['0.000000e+00'],\n",
       "        [-349.5897898643835],\n",
       "        [20.84165496367458],\n",
       "        [3.0511870642697407],\n",
       "        [0.0],\n",
       "        [0.0],\n",
       "        [-0.0],\n",
       "        [-0.0]], dtype=object),\n",
       " array([['1.000000e-01'],\n",
       "        [-347.84833605057133],\n",
       "        [20.570776017260947],\n",
       "        [3.047149848357025],\n",
       "        [0.0],\n",
       "        [-0.0],\n",
       "        [-0.0],\n",
       "        [-0.0]], dtype=object),\n",
       " array([['2.000000e-01'],\n",
       "        [-346.1100856496289],\n",
       "        [20.300605426429392],\n",
       "        [3.027163472601459],\n",
       "        [0.0],\n",
       "        [0.0],\n",
       "        [-0.0],\n",
       "        [-0.0]], dtype=object),\n",
       " array([['3.000000e-01'],\n",
       "        [-344.3744682670065],\n",
       "        [20.034673410933983],\n",
       "        [3.000036595129317],\n",
       "        [0.0],\n",
       "        [-0.0],\n",
       "        [-0.0],\n",
       "        [-0.0]], dtype=object),\n",
       " array([['4.000000e-01'],\n",
       "        [-342.6417465765301],\n",
       "        [19.770920973280727],\n",
       "        [2.954944139858982],\n",
       "        [0.0],\n",
       "        [0.0],\n",
       "        [-0.0],\n",
       "        [-0.0]], dtype=object)]"
      ]
     },
     "execution_count": 97,
     "metadata": {},
     "output_type": "execute_result"
    }
   ],
   "source": [
    "poses[:5]"
   ]
  },
  {
   "cell_type": "code",
   "execution_count": 98,
   "id": "e3be644f-beef-4e5d-ab5e-242c2a9893ab",
   "metadata": {},
   "outputs": [
    {
     "data": {
      "text/plain": [
       "[array([['0.000000e+00'],\n",
       "        [-349.5897898643835],\n",
       "        [20.84165496367458],\n",
       "        [3.0511870642697407],\n",
       "        [0.0],\n",
       "        [0.0],\n",
       "        [-0.0],\n",
       "        [-0.0]], dtype=object),\n",
       " array([['1.000000e-01'],\n",
       "        [-347.84833605057133],\n",
       "        [20.570776017260947],\n",
       "        [3.047149848357025],\n",
       "        [0.0],\n",
       "        [-0.0],\n",
       "        [-0.0],\n",
       "        [-0.0]], dtype=object),\n",
       " array([['2.000000e-01'],\n",
       "        [-346.1100856496289],\n",
       "        [20.300605426429392],\n",
       "        [3.027163472601459],\n",
       "        [0.0],\n",
       "        [0.0],\n",
       "        [-0.0],\n",
       "        [-0.0]], dtype=object),\n",
       " array([['3.000000e-01'],\n",
       "        [-344.3744682670065],\n",
       "        [20.034673410933983],\n",
       "        [3.000036595129317],\n",
       "        [0.0],\n",
       "        [-0.0],\n",
       "        [-0.0],\n",
       "        [-0.0]], dtype=object),\n",
       " array([['4.000000e-01'],\n",
       "        [-342.6417465765301],\n",
       "        [19.770920973280727],\n",
       "        [2.954944139858982],\n",
       "        [0.0],\n",
       "        [0.0],\n",
       "        [-0.0],\n",
       "        [-0.0]], dtype=object)]"
      ]
     },
     "execution_count": 98,
     "metadata": {},
     "output_type": "execute_result"
    }
   ],
   "source": [
    "'''\n",
    "file_count = 0\n",
    "for filename in os.listdir(DATA_FOLDER_PATH):\n",
    "    if os.path.isfile(os.path.join(DATA_FOLDER_PATH, filename)):\n",
    "        file_count += 1\n",
    "\n",
    "prev_imu_data = None\n",
    "poses = []\n",
    "fps = 10\n",
    "\n",
    "\n",
    "for frame in range(file_count):\n",
    "    imu_data = read_imu(os.path.join(DATA_FOLDER_PATH, '%010d.txt' % frame))\n",
    "    times = read_times(os.path.join(TIMES_FILE_PATH))\n",
    "    if prev_imu_data is not None:\n",
    "        displacement = 0.1 * np.linalg.norm(imu_data[['vf', 'vl', 'vu']])\n",
    "        yaw_change = imu_data.yaw - prev_imu_data.yaw\n",
    "        pitch_change = imu_data.pitch - prev_imu_data.pitch\n",
    "        roll_change = imu_data.roll - prev_imu_data.roll\n",
    "\n",
    "        for i in range(len(poses)):\n",
    "            time, x0, y0, z0, q1, q2, q3, q4 = poses[i]\n",
    "            \n",
    "            # Calculate new x, y, and z coordinates based on yaw_change, pitch_change, and vf, vl, vu\n",
    "            x1 = x0 * np.cos(yaw_change) + y0 * np.sin(yaw_change) - displacement * np.cos(pitch_change)\n",
    "            y1 = -x0 * np.sin(yaw_change) + y0 * np.cos(yaw_change) - displacement * np.sin(pitch_change)\n",
    "            z1 = z0 - imu_da\n",
    "            \n",
    "            \n",
    "            \n",
    "            \n",
    "            \n",
    "            \n",
    "            \n",
    "            \n",
    "            \n",
    "            \n",
    "            \n",
    "            \n",
    "            \n",
    "            \n",
    "            ta.vu * 0.1 * fps  # Consider vertical velocity and time interval\n",
    "            \n",
    "            q1_new, q2_new, q3_new, q4_new = euler_to_quaternion(yaw_change, pitch_change, roll_change)\n",
    "\n",
    "            time_curr = pd.Series(times[i].strip())\n",
    "\n",
    "            poses[i] = np.array([time_curr, x1, y1, z1, q1 * q1_new, q2 * q2_new, q3 * q3_new, q4 * q4_new])\n",
    "    \n",
    "    poses.append(np.array([0, 0, 0, 0, 0, 1, 0, 0]))\n",
    "    prev_imu_data = imu_data\n",
    "'''\n",
    "poses[:5]"
   ]
  },
  {
   "cell_type": "code",
   "execution_count": 99,
   "id": "8ca5c996-aec1-409f-915c-370f6801e0bb",
   "metadata": {},
   "outputs": [],
   "source": [
    "output_path = '/home/brwei01/Data/data_tracking/sequences/0005/gt_0005.txt'\n",
    "with open(output_path, 'w') as f:\n",
    "    for pose in poses:\n",
    "        timestamp = str(pose[0]).strip('[]').strip(\"' '\")\n",
    "        x = str(pose[1]).strip('[]')\n",
    "        y = str(pose[2]).strip('[]')\n",
    "        z = str(pose[3]).strip('[]')\n",
    "        q1 = str(pose[4]).strip('[]')\n",
    "        q2 = str(pose[5]).strip('[]')\n",
    "        q3 = str(pose[6]).strip('[]')\n",
    "        q4 = str(pose[7]).strip('[]')\n",
    "        line = f'{timestamp} {x} {y} {z} {q1} {q2} {q3} {q4}\\n'\n",
    "        f.write(line)       "
   ]
  },
  {
   "cell_type": "markdown",
   "id": "65e82e2e-1ca2-4f15-a2c2-3f569ce343a9",
   "metadata": {},
   "source": [
    "# These steps are to run AFTER running KITTI RAW/tracking data on the slam "
   ]
  },
  {
   "cell_type": "markdown",
   "id": "c8703ed8-c026-49eb-ac32-9deeebcf004b",
   "metadata": {},
   "source": [
    "## 1. Formatting console log(detection box and distance) from SLAM\n",
    "the 6 entries are : 'frame_number', 'bbox_left', 'bbox_top', 'bbox_right', 'bbox_bottom', 'distance_SLAM'"
   ]
  },
  {
   "cell_type": "code",
   "execution_count": 129,
   "id": "0ea6bb29-b3b6-413f-a034-b73f5ded2b5e",
   "metadata": {},
   "outputs": [],
   "source": [
    "import re\n",
    "import numpy as np"
   ]
  },
  {
   "cell_type": "code",
   "execution_count": 130,
   "id": "a58b63d1-494d-4c50-859e-6f588302931c",
   "metadata": {},
   "outputs": [],
   "source": [
    "# setting file paths\n",
    "\n",
    "input_path = '/home/brwei01/Dev/SLAM_OFFLINE/COMP0130_22-23_Topic_03/Coursework_03/Results/0002/console_log_0002.txt' \n",
    "output_path = '/home/brwei01/Dev/SLAM_OFFLINE/COMP0130_22-23_Topic_03/Coursework_03/Results/0002/console_log_formatted_0002.txt' "
   ]
  },
  {
   "cell_type": "code",
   "execution_count": 131,
   "id": "974f557b-e540-45e1-b351-b5a5d66ec05d",
   "metadata": {},
   "outputs": [],
   "source": [
    "import re\n",
    "\n",
    "# Initialize a list to store the extracted information\n",
    "result = []\n",
    "output = []\n",
    "with open(input_path, 'r') as input_file:\n",
    "\n",
    "    # Initialize variables to store information for the current frame\n",
    "    frame_number = None\n",
    "    bounding_box = None\n",
    "    min_distance = None\n",
    "    track_id = None \n",
    "\n",
    "    # Define a regular expression pattern to extract bounding box values\n",
    "    bbox_pattern = r'\\[(\\d+), (\\d+)\\]\\[(\\d+), (\\d+)\\]'\n",
    "\n",
    "    # Iterate through the lines and extract information\n",
    "    for line in input_file:\n",
    "        if line.startswith(\"Processing Image NO.\"):\n",
    "            # Extract frame number\n",
    "            frame_number = line.split(\":\")[-1].strip()\n",
    "        elif line.startswith(\"This is track_id:\"):\n",
    "            # Extract track id using regex\n",
    "            track_id = int(line.split(\":\")[-1])\n",
    "        elif line.startswith(\"This is bounding box:\"):\n",
    "            # Extract bounding box values using regex\n",
    "            match = re.search(bbox_pattern, line)\n",
    "            if match:\n",
    "                left, top, right, bottom = map(int, match.groups())\n",
    "                # Store bounding box coordinates as a list\n",
    "                bounding_box = [left, top, right, bottom]\n",
    "        elif line.startswith(\"min distance to camera:\"):\n",
    "            # Extract minimum distance\n",
    "            min_distance = float(line.split(\":\")[-1])\n",
    "\n",
    "\n",
    "            # Append the extracted information to the result list\n",
    "            result.append({\n",
    "                \"frame_number\": frame_number,\n",
    "                \"track_id\": track_id,\n",
    "                \"bounding_box\": bounding_box,\n",
    "                \"distance\": min_distance\n",
    "            })\n",
    "\n",
    "# Print the result (list of dictionaries)\n",
    "for entry in result:\n",
    "    frame_number = entry['frame_number']\n",
    "    track_id = entry['track_id']\n",
    "    bounding_box = entry['bounding_box']\n",
    "    distance = entry['distance']\n",
    "    record = f\"{frame_number} {track_id} {bounding_box[0]} {bounding_box[1]} {bounding_box[2]} {bounding_box[3]} {distance}\\n\"\n",
    "    output.append(record)\n",
    "\n"
   ]
  },
  {
   "cell_type": "code",
   "execution_count": 132,
   "id": "f623b3e1-f168-4bdf-9af1-79e6896ee785",
   "metadata": {},
   "outputs": [
    {
     "data": {
      "text/plain": [
       "['000031 1 714 170 732 185 72.384323\\n',\n",
       " '000032 1 715 171 733 185 71.229202\\n',\n",
       " '000033 1 717 173 736 188 68.798592\\n',\n",
       " '000035 1 718 172 737 188 67.661163\\n',\n",
       " '000037 1 718 170 738 187 67.228081\\n',\n",
       " '000038 1 718 170 738 187 67.228081\\n',\n",
       " '000039 1 718 173 738 190 62.383438\\n',\n",
       " '000040 1 718 173 738 190 62.383438\\n',\n",
       " '000041 1 717 173 738 190 60.6273\\n',\n",
       " '000042 1 717 172 738 191 58.356071\\n',\n",
       " '000043 1 717 172 738 191 56.143002\\n',\n",
       " '000044 1 717 172 738 191 56.143002\\n',\n",
       " '000046 1 716 175 739 195 53.314274\\n',\n",
       " '000047 1 716 175 739 195 53.314274\\n',\n",
       " '000048 1 716 176 739 196 52.394737\\n',\n",
       " '000051 1 713 175 738 197 48.514942\\n',\n",
       " '000055 1 710 175 736 199 47.29599\\n',\n",
       " '000056 1 708 174 736 198 44.606377\\n',\n",
       " '000056 1 708 174 736 198 44.606377\\n',\n",
       " '000057 1 705 174 734 200 42.226742\\n']"
      ]
     },
     "execution_count": 132,
     "metadata": {},
     "output_type": "execute_result"
    }
   ],
   "source": [
    "output[:20]"
   ]
  },
  {
   "cell_type": "code",
   "execution_count": 133,
   "id": "476ad2a2-cef5-4be4-89ed-5f777127fe38",
   "metadata": {},
   "outputs": [
    {
     "name": "stdout",
     "output_type": "stream",
     "text": [
      "['000031 1 714 170 732 185 72.384323\\n', '000032 1 715 171 733 185 71.229202\\n', '000033 1 717 173 736 188 68.798592\\n', '000035 1 718 172 737 188 67.661163\\n', '000037 1 718 170 738 187 67.228081\\n', '000038 1 718 170 738 187 67.228081\\n', '000039 1 718 173 738 190 62.383438\\n', '000040 1 718 173 738 190 62.383438\\n', '000041 1 717 173 738 190 60.6273\\n', '000042 1 717 172 738 191 58.356071\\n', '000043 1 717 172 738 191 56.143002\\n', '000044 1 717 172 738 191 56.143002\\n', '000046 1 716 175 739 195 53.314274\\n', '000047 1 716 175 739 195 53.314274\\n', '000048 1 716 176 739 196 52.394737\\n', '000051 1 713 175 738 197 48.514942\\n', '000055 1 710 175 736 199 47.29599\\n', '000056 1 708 174 736 198 44.606377\\n', '000057 1 705 174 734 200 42.226742\\n', '000058 1 705 174 734 200 42.226742\\n']\n"
     ]
    }
   ],
   "source": [
    "# delete multiplication\n",
    "unique_records = {}\n",
    "\n",
    "# Process the input data\n",
    "for record in output:\n",
    "    if record not in unique_records:\n",
    "        unique_records[record] = True\n",
    "\n",
    "# Convert the dictionary keys back to a list\n",
    "unique_records_list = list(unique_records.keys())\n",
    "\n",
    "# Print the unique records\n",
    "print(unique_records_list[:20])"
   ]
  },
  {
   "cell_type": "code",
   "execution_count": 134,
   "id": "4f42d9a7-6dbc-4520-9219-acd98d9f9d38",
   "metadata": {},
   "outputs": [],
   "source": [
    "with open(output_path, 'w') as output_f:\n",
    "    for line in unique_records_list:\n",
    "        output_f.write(line)"
   ]
  },
  {
   "cell_type": "code",
   "execution_count": null,
   "id": "a72b2631-5e5f-451e-81d4-5057333f4b6f",
   "metadata": {},
   "outputs": [],
   "source": []
  },
  {
   "cell_type": "markdown",
   "id": "bd5ae238-06f6-4f98-b75a-ef4dae29a224",
   "metadata": {},
   "source": [
    "## 2. Formatting console log(detection box and distance) from SLAM (With YOLACT MASK)\n",
    "the 6 entries are : 'frame_number', 'maask_left', 'bbox_top', 'bbox_right', 'bbox_bottom', 'distance_SLAM'"
   ]
  },
  {
   "cell_type": "code",
   "execution_count": 44,
   "id": "586b3747-1002-466b-aed4-9a1e03710ab9",
   "metadata": {},
   "outputs": [],
   "source": [
    "import re\n",
    "import numpy as np"
   ]
  },
  {
   "cell_type": "code",
   "execution_count": 63,
   "id": "d91f4e6a-cfec-46e7-baa5-8078a5d342bd",
   "metadata": {},
   "outputs": [],
   "source": [
    "# setting file paths\n",
    "\n",
    "input_path = '/home/brwei01/Dev/SLAM_MASK/COMP0130_22-23_Topic_03/Coursework_03/Results/console_log.txt' \n",
    "output_path = '/home/brwei01/Dev/SLAM_MASK/COMP0130_22-23_Topic_03/Coursework_03/Results/console_log_formatted_mask.txt' "
   ]
  },
  {
   "cell_type": "code",
   "execution_count": 64,
   "id": "7f3afe48-34c0-466b-8958-5d8aba26ef61",
   "metadata": {},
   "outputs": [],
   "source": [
    "# Initialize a list to store the extracted information\n",
    "result = []\n",
    "output = []\n",
    "\n",
    "with open(input_path, 'r') as input_file:\n",
    "    # Initialize variables to store information for the current frame\n",
    "    frame_number = None\n",
    "    bounding_box = None\n",
    "    min_distance = None\n",
    "\n",
    "    # Iterate through the lines and extract information\n",
    "    for line in input_file:\n",
    "        if line.startswith(\"Processing Image NO.\"):\n",
    "            # Extract frame number\n",
    "            frame_number = line.split(\":\")[-1].strip()\n",
    "        elif line.startswith(\"corresponding mask area:\"):\n",
    "            # Extract bounding box information\n",
    "            bounding_box = list(map(int, line.split(\":\")[-1].strip().split()))\n",
    "        elif line.startswith(\"min distance to camera:\"):\n",
    "            # Extract minimum distance\n",
    "            min_distance = float(line.split(\":\")[-1])\n",
    "\n",
    "            # Append the extracted information to the result list\n",
    "            result.append({\n",
    "                \"frame_number\": frame_number,\n",
    "                \"bounding_box\": bounding_box,\n",
    "                \"distance\": min_distance\n",
    "            })\n",
    "\n",
    "# Print the result (list of dictionaries)\n",
    "for entry in result:\n",
    "    frame_number = entry['frame_number']\n",
    "    bounding_box = entry['bounding_box']\n",
    "    distance = entry['distance']\n",
    "    record = f\"{frame_number} {bounding_box[0]} {bounding_box[1]} {bounding_box[2]} {bounding_box[3]} {distance}\\n\"\n",
    "    output.append(record)\n"
   ]
  },
  {
   "cell_type": "code",
   "execution_count": 65,
   "id": "374776ef-9cb0-406b-9b98-01b2f7a7eaad",
   "metadata": {},
   "outputs": [
    {
     "data": {
      "text/plain": [
       "['0000000014 280 158 421 259 4.397029\\n',\n",
       " '0000000015 280 164 420 259 3.56781\\n',\n",
       " '0000000016 280 164 420 259 3.56781\\n',\n",
       " '0000000017 783 169 881 332 12.253211\\n',\n",
       " '0000000017 284 158 416 256 5.204852\\n',\n",
       " '0000000018 286 161 427 257 4.98418\\n',\n",
       " '0000000019 207 195 252 215 39.027664\\n',\n",
       " '0000000019 285 166 428 263 4.763433\\n',\n",
       " '0000000020 118 209 159 222 43.042542\\n',\n",
       " '0000000020 288 177 406 267 4.722566\\n',\n",
       " '0000000020 219 201 266 216 39.443771\\n',\n",
       " '0000000021 226 203 275 227 42.798298\\n',\n",
       " '0000000021 288 178 438 273 4.426696\\n',\n",
       " '0000000021 289 183 405 270 4.217901\\n',\n",
       " '0000000022 732 181 833 347 16.328762\\n',\n",
       " '0000000022 243 202 294 224 34.429169\\n',\n",
       " '0000000022 297 178 406 266 5.935854\\n',\n",
       " '0000000023 524 177 790 226 13.669338\\n',\n",
       " '0000000024 307 175 407 261 4.879364\\n',\n",
       " '0000000025 307 175 409 260 8.702667\\n']"
      ]
     },
     "execution_count": 65,
     "metadata": {},
     "output_type": "execute_result"
    }
   ],
   "source": [
    "output[:20]"
   ]
  },
  {
   "cell_type": "code",
   "execution_count": 66,
   "id": "7f552215-ee0d-43b5-bbc9-cf830352b740",
   "metadata": {},
   "outputs": [
    {
     "name": "stdout",
     "output_type": "stream",
     "text": [
      "['0000000014 280 158 421 259 4.397029\\n', '0000000015 280 164 420 259 3.56781\\n', '0000000016 280 164 420 259 3.56781\\n', '0000000017 783 169 881 332 12.253211\\n', '0000000017 284 158 416 256 5.204852\\n', '0000000018 286 161 427 257 4.98418\\n', '0000000019 207 195 252 215 39.027664\\n', '0000000019 285 166 428 263 4.763433\\n', '0000000020 118 209 159 222 43.042542\\n', '0000000020 288 177 406 267 4.722566\\n', '0000000020 219 201 266 216 39.443771\\n', '0000000021 226 203 275 227 42.798298\\n', '0000000021 288 178 438 273 4.426696\\n', '0000000021 289 183 405 270 4.217901\\n', '0000000022 732 181 833 347 16.328762\\n', '0000000022 243 202 294 224 34.429169\\n', '0000000022 297 178 406 266 5.935854\\n', '0000000023 524 177 790 226 13.669338\\n', '0000000024 307 175 407 261 4.879364\\n', '0000000025 307 175 409 260 8.702667\\n']\n"
     ]
    }
   ],
   "source": [
    "# delete multiplication\n",
    "unique_records = {}\n",
    "\n",
    "# Process the input data\n",
    "for record in output:\n",
    "    if record not in unique_records:\n",
    "        unique_records[record] = True\n",
    "\n",
    "# Convert the dictionary keys back to a list\n",
    "unique_records_list = list(unique_records.keys())\n",
    "\n",
    "# Print the unique records\n",
    "print(unique_records_list[:20])"
   ]
  },
  {
   "cell_type": "code",
   "execution_count": 67,
   "id": "66eff4b2-5b12-4a85-8182-5c9b24928e92",
   "metadata": {},
   "outputs": [],
   "source": [
    "with open(output_path, 'w') as output_f:\n",
    "    for line in unique_records_list:\n",
    "        output_f.write(line)"
   ]
  },
  {
   "cell_type": "code",
   "execution_count": 85,
   "id": "06f5ef7f-17df-45ad-9741-85022c3feb99",
   "metadata": {},
   "outputs": [
    {
     "name": "stdout",
     "output_type": "stream",
     "text": [
      "Renamed 154 files in '/home/brwei01/Data/data_tracking/sequences/0000/image_0'.\n"
     ]
    }
   ],
   "source": [
    "import os\n",
    "\n",
    "def rename_files_in_folder(folder_path):\n",
    "    # Get a list of files in the folder\n",
    "    files = os.listdir(folder_path)\n",
    "    \n",
    "    # Sort the files in their original order\n",
    "    files.sort()\n",
    "    \n",
    "    # Iterate through the sorted files and rename them\n",
    "    for i, filename in enumerate(files):\n",
    "        # Create the new filename with leading zeros\n",
    "        new_filename = f\"{i:06d}.png\"\n",
    "        \n",
    "        # Construct the full paths for the old and new filenames\n",
    "        old_path = os.path.join(folder_path, filename)\n",
    "        new_path = os.path.join(folder_path, new_filename)\n",
    "        \n",
    "        # Rename the file\n",
    "        os.rename(old_path, new_path)\n",
    "\n",
    "\n",
    "# Example usage:\n",
    "folder_path = \"/home/brwei01/Data/data_tracking/sequences/0000/image_0\"\n",
    "rename_files(folder_path)\n"
   ]
  },
  {
   "cell_type": "code",
   "execution_count": null,
   "id": "1b781b59-e4e1-4f6c-ae37-13fb1421b249",
   "metadata": {},
   "outputs": [],
   "source": []
  }
 ],
 "metadata": {
  "kernelspec": {
   "display_name": "Python 3 (ipykernel)",
   "language": "python",
   "name": "python3"
  },
  "language_info": {
   "codemirror_mode": {
    "name": "ipython",
    "version": 3
   },
   "file_extension": ".py",
   "mimetype": "text/x-python",
   "name": "python",
   "nbconvert_exporter": "python",
   "pygments_lexer": "ipython3",
   "version": "3.8.10"
  }
 },
 "nbformat": 4,
 "nbformat_minor": 5
}
